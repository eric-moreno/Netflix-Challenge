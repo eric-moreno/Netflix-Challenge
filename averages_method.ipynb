{
 "cells": [
  {
   "cell_type": "code",
   "execution_count": 1,
   "metadata": {},
   "outputs": [],
   "source": [
    "import numpy as np\n",
    "import pandas as pd"
   ]
  },
  {
   "cell_type": "code",
   "execution_count": 2,
   "metadata": {},
   "outputs": [],
   "source": [
    "#load data\n",
    "df = pd.read_table('all.dta', delim_whitespace=True,header=None)\n",
    "df = np.array(df)\n",
    "idx = pd.read_table('all.idx', delim_whitespace=True,header=None)\n",
    "idk = np.array(idx)"
   ]
  },
  {
   "cell_type": "code",
   "execution_count": 3,
   "metadata": {},
   "outputs": [],
   "source": [
    "#indexing for all different datasets that we use \n",
    "\n",
    "base = []\n",
    "valid = []\n",
    "hidden = []\n",
    "probe = []\n",
    "qual = []\n",
    "for i in range(len(idx)):\n",
    "    if idk[i][0] == 1:\n",
    "        base.append(i + 1)\n",
    "    elif idk[i][0] == 2:\n",
    "        valid.append(i + 1)\n",
    "    elif idk[i][0] == 3:\n",
    "        hidden.append(i + 1)\n",
    "    elif idk[i][0] == 4:\n",
    "        probe.append(i + 1)\n",
    "    else:\n",
    "        qual.append(i + 1)\n",
    "        "
   ]
  },
  {
   "cell_type": "code",
   "execution_count": 4,
   "metadata": {},
   "outputs": [],
   "source": [
    "#Creates 2D array with all a given movies ratings\n",
    "movies = []\n",
    "for i in range(17771):\n",
    "    movies.append([])\n",
    "    \n",
    "#Creates 2D array with all a users given ratings\n",
    "users = []\n",
    "for i in range(480190):\n",
    "    users.append([])\n",
    "\n",
    "#fills users and movies matrix\n",
    "for i in df[base]: \n",
    "    users[i[0]].append(i[3])\n",
    "    movies[i[1]].append(i[3])"
   ]
  },
  {
   "cell_type": "code",
   "execution_count": 5,
   "metadata": {},
   "outputs": [
    {
     "name": "stderr",
     "output_type": "stream",
     "text": [
      "/usr/local/lib/python3.5/dist-packages/numpy/core/fromnumeric.py:2920: RuntimeWarning: Mean of empty slice.\n",
      "  out=out, **kwargs)\n",
      "/usr/local/lib/python3.5/dist-packages/numpy/core/_methods.py:85: RuntimeWarning: invalid value encountered in double_scalars\n",
      "  ret = ret.dtype.type(ret / rcount)\n"
     ]
    }
   ],
   "source": [
    "#creates averages of all movies at once\n",
    "movies_avg = []\n",
    "for i in movies:\n",
    "    movies_avg.append(np.mean(i))\n",
    "users_avg = []\n",
    "for i in users:\n",
    "    users_avg.append(np.mean(i))"
   ]
  },
  {
   "cell_type": "code",
   "execution_count": 6,
   "metadata": {},
   "outputs": [],
   "source": [
    "#Generates answers for qual dataset\n",
    "answers = []\n",
    "for i in df[qual]:\n",
    "    answers.append(0.5*(users_avg[i[0]] + movies_avg[i[1]]))"
   ]
  },
  {
   "cell_type": "code",
   "execution_count": 56,
   "metadata": {},
   "outputs": [],
   "source": [
    "np.save('answers.npy', answers)"
   ]
  },
  {
   "cell_type": "code",
   "execution_count": 53,
   "metadata": {},
   "outputs": [
    {
     "data": {
      "text/plain": [
       "<function TextIOWrapper.close()>"
      ]
     },
     "execution_count": 53,
     "metadata": {},
     "output_type": "execute_result"
    }
   ],
   "source": [
    "f= open(\"averages.dta\",\"w+\")\n",
    "for i in answers:\n",
    "    string = str('%.3f'%(i)) + '\\n'\n",
    "    f.write(string)\n",
    "f.close"
   ]
  },
  {
   "cell_type": "code",
   "execution_count": 62,
   "metadata": {},
   "outputs": [],
   "source": [
    "full_array = np.zeros((480189, 17770))"
   ]
  },
  {
   "cell_type": "code",
   "execution_count": 63,
   "metadata": {},
   "outputs": [
    {
     "data": {
      "text/plain": [
       "(17770, 480189)"
      ]
     },
     "execution_count": 63,
     "metadata": {},
     "output_type": "execute_result"
    }
   ],
   "source": [
    "full_array.shape"
   ]
  },
  {
   "cell_type": "code",
   "execution_count": null,
   "metadata": {},
   "outputs": [],
   "source": [
    "for i in df[base]:\n",
    "    full_array"
   ]
  },
  {
   "cell_type": "code",
   "execution_count": null,
   "metadata": {},
   "outputs": [],
   "source": []
  }
 ],
 "metadata": {
  "kernelspec": {
   "display_name": "Python 3",
   "language": "python",
   "name": "python3"
  },
  "language_info": {
   "codemirror_mode": {
    "name": "ipython",
    "version": 3
   },
   "file_extension": ".py",
   "mimetype": "text/x-python",
   "name": "python",
   "nbconvert_exporter": "python",
   "pygments_lexer": "ipython3",
   "version": "3.5.2"
  }
 },
 "nbformat": 4,
 "nbformat_minor": 2
}
