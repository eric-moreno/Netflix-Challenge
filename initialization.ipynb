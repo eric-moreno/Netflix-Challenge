{
 "cells": [
  {
   "cell_type": "code",
   "execution_count": null,
   "metadata": {},
   "outputs": [],
   "source": [
    "import numpy as np\n",
    "import pandas as pd"
   ]
  },
  {
   "cell_type": "code",
   "execution_count": null,
   "metadata": {},
   "outputs": [],
   "source": [
    "#load data\n",
    "df = pd.read_table('all.dta', delim_whitespace=True,header=None)\n",
    "df = np.array(df)\n",
    "idx = pd.read_table('all.idx')\n",
    "idk = np.array(idx)"
   ]
  },
  {
   "cell_type": "code",
   "execution_count": null,
   "metadata": {},
   "outputs": [],
   "source": [
    "#zero indexing the dataframe \n",
    "for i in df: \n",
    "    i[0] -= 1\n",
    "    i[1] -= 1"
   ]
  },
  {
   "cell_type": "code",
   "execution_count": null,
   "metadata": {},
   "outputs": [],
   "source": [
    "#indexing for all different datasets that we use \n",
    "base = []\n",
    "valid = []\n",
    "hidden = []\n",
    "probe = []\n",
    "qual = []\n",
    "for i in range(len(idx)):\n",
    "    if idk[i][0] == 1:\n",
    "        base.append(i)\n",
    "    elif idk[i][0] == 2:\n",
    "        valid.append(i)\n",
    "    elif idk[i][0] == 3:\n",
    "        hidden.append(i)\n",
    "    elif idk[i][0] == 4:\n",
    "        probe.append(i)\n",
    "    else:\n",
    "        qual.append(i)     "
   ]
  },
  {
   "cell_type": "code",
   "execution_count": null,
   "metadata": {},
   "outputs": [],
   "source": [
    "#creating and filling in full_array for training dataset\n",
    "\n",
    "full_array = np.zeros((480189, 17770))\n",
    "for i in df[base]:\n",
    "    full_array[i[0]][i[1]] = i[3]"
   ]
  }
 ],
 "metadata": {
  "kernelspec": {
   "display_name": "Python 2",
   "language": "python",
   "name": "python2"
  },
  "language_info": {
   "codemirror_mode": {
    "name": "ipython",
    "version": 2
   },
   "file_extension": ".py",
   "mimetype": "text/x-python",
   "name": "python",
   "nbconvert_exporter": "python",
   "pygments_lexer": "ipython2",
   "version": "2.7.12"
  }
 },
 "nbformat": 4,
 "nbformat_minor": 2
}
